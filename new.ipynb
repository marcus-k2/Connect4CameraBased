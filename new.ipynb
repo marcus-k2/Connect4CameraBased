{
  "nbformat": 4,
  "nbformat_minor": 0,
  "metadata": {
    "colab": {
      "provenance": [],
      "authorship_tag": "ABX9TyNzp7X+DzyMH97l9EvNYxzd",
      "include_colab_link": true
    },
    "kernelspec": {
      "name": "python3",
      "display_name": "Python 3"
    },
    "language_info": {
      "name": "python"
    }
  },
  "cells": [
    {
      "cell_type": "markdown",
      "metadata": {
        "id": "view-in-github",
        "colab_type": "text"
      },
      "source": [
        "<a href=\"https://colab.research.google.com/github/marcus-k2/new/blob/main/new.ipynb\" target=\"_parent\"><img src=\"https://colab.research.google.com/assets/colab-badge.svg\" alt=\"Open In Colab\"/></a>"
      ]
    },
    {
      "cell_type": "code",
      "execution_count": 1,
      "metadata": {
        "id": "EdccjVOiqpkG",
        "colab": {
          "base_uri": "https://localhost:8080/"
        },
        "outputId": "fd7beeb2-ff25-4d96-9d49-fba669e738f1"
      },
      "outputs": [
        {
          "output_type": "stream",
          "name": "stdout",
          "text": [
            "test2\n"
          ]
        }
      ],
      "source": [
        "print(\"test2\")"
      ]
    }
  ]
}